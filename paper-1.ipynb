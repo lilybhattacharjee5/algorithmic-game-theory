{
 "cells": [
  {
   "cell_type": "markdown",
   "metadata": {},
   "source": [
    "# Basic Solution Concepts and Computational Issues"
   ]
  },
  {
   "cell_type": "markdown",
   "metadata": {},
   "source": [
    "<b>Acknowledgements</b>: Eva Tardos, Vijay V. Vazirani"
   ]
  },
  {
   "cell_type": "code",
   "execution_count": 1,
   "metadata": {
    "collapsed": true
   },
   "outputs": [],
   "source": [
    "import json\n",
    "import numpy as np\n",
    "import networkx as nx\n",
    "import matplotlib.pyplot as plt\n",
    "%matplotlib inline"
   ]
  },
  {
   "cell_type": "markdown",
   "metadata": {},
   "source": [
    "## Games, Old and New"
   ]
  },
  {
   "cell_type": "markdown",
   "metadata": {},
   "source": [
    "<dl>\n",
    "<dt>Game theory</dt><dd>modeling interdependent game participant interactions and outcomes</dd>\n",
    "</dl>"
   ]
  },
  {
   "cell_type": "markdown",
   "metadata": {},
   "source": [
    "### The Prisoner's Dilemma"
   ]
  },
  {
   "cell_type": "markdown",
   "metadata": {},
   "source": [
    "<b>Situation</b>: Two prisoners are on trial and each one can choose to either confess or be silent. The costs of each of the 4 outcomes (P1 Confesses and P2 Confesses, etc.) can be represented in the matrix below.\n",
    "\n",
    "<img src = \"images/pd_matrix.png\" height = \"30%\" width = \"30%\">"
   ]
  },
  {
   "cell_type": "markdown",
   "metadata": {},
   "source": [
    "We see that given the format (P1_cost, P2_cost) as an ordered pair for the cost of a particular action $x$, that the following actions lead to matched cost pairs:\n",
    "- P1 confess, P2 confess: (4, 4)\n",
    "- P1 confess, P2 silent: (1, 5) ... note P2 loses more in this case\n",
    "- P1 silent, P2 confess: (5, 1)\n",
    "- P1 silent, P2 silent: (2, 2)\n",
    "\n",
    "The only stable solution (we'll later see this is called a Nash equilibrium) is P1 confess, P2 confess. In any other possible solution, a player switching their action improves their payoff e.g. P1 silent, P2 silent isn't an equilibrium because if P1 confesses, they can reduce their incurred cost by 1.\n",
    "\n",
    "The Prisoner's Dilemma has more immediate real-world applications.\n",
    "\n",
    "<b>Situation</b>: Two ISPs want to transmit some traffic from $s_1$ in ISP 1's domain to $t_1$ in ISP 2's domain, and from $t_2$ in ISP 2's domain to $s_2$ in ISP 1. This traffic can only be routed by two peering points in between the ISP domains. Each ISP can be selfish and route to the closest point from the start, or optimize for the length of the entire path to the destination. There are 4 possible outcomes in this problem:\n",
    "- P1 optimize, P2 optimize\n",
    "- P1 optimize, P2 selfish\n",
    "- P1 selfish, P2 optimize\n",
    "- P1 selfish, P2 selfish\n",
    "\n",
    "Doesn't this look a little familiar?"
   ]
  },
  {
   "cell_type": "markdown",
   "metadata": {},
   "source": [
    "### The Tragedy of the Commons"
   ]
  },
  {
   "cell_type": "markdown",
   "metadata": {},
   "source": [
    "Let's extend the Prisoner's Dilemma to a many-player situation!\n",
    "\n",
    "<b>Situation</b>: There are $n$ countries. For each country, the action of controlling pollution costs 3, but doing nothing costs 1 for <i>every country</i>. Assume $k$ countries decide not to control pollution. The cost incurred by each of these $k$ countries is $k$, but the cost of each of the $n - k$ countries that did is $k + 3$.\n",
    "\n",
    "<b>Solution</b>: Each country chooses not to control pollution, incurring an $n$ cost / country. In any other outcome, an arbitrary country that chose to control pollution could have lowered their own cost by switching to doing nothing. On the other hand, if every country controlled pollution, the cost would have been 3 / country (analogous to both prisoner's staying silent).\n",
    "\n",
    "What if we look at a kind of game where optimal selfish strategies depend on other player actions (the \"interdependent\" aspect of game theory)? So far, we've analyzed games where the optimal strategy doesn't really depend on what the other players play.\n",
    "\n",
    "<b>Situation</b>: Assume $n$ players are trying to share a binary channel with maximum capacity 1. Each player is greedy and wants to have as much of the bandwidth as possible, but the following rules apply:\n",
    "- $\\sum_j x_j \\geq 1$\n",
    ": each player's benefit = 0\n",
    "- $\\sum_j x_j < 1$\n",
    ": each player's benefit = $x_i(1 - \\sum_j x_j)$ i.e. as total assigned bandwidth goes up, individual player benefit goes down\n",
    "\n",
    "Assume the other players sent some $t = \\sum_{j \\neq i} x_j < 1$ flow -- the equation to optimize player $i$'s benefit is given by $x(1 - t - x)$, which is maximized when $x = \\frac{1 - t}{2}$. Hence, $x_i = \\frac{(1 - \\sum_{j \\neq i} x_j)}{2}$, and by symmetry $x_i = \\frac{1}{n + 1} \\forall i$.\n",
    "\n",
    "The value of each player is $x_i(1 - \\sum_j x_j) = \\frac{1}{n + 1}(1 - \\frac{n}{n + 1}) = \\frac{1}{(n + 1)^2}$. The sum of all player values is $\\frac{n}{(n + 1)^2} \\approx \\frac{1}{n}$.\n",
    "\n",
    "This is a tragedy because $n$ greedy users sharing a common resource will overuse it so the total value that is used is far lower than the resource's true potential due to lack of cooperation. It's actually pretty similar to the Prisoner's Dilemma scenario where countries independently arrive at an inefficient outcome where the cost per country is $n$ instead of 3."
   ]
  },
  {
   "cell_type": "markdown",
   "metadata": {},
   "source": [
    "### Coordination Games"
   ]
  },
  {
   "cell_type": "markdown",
   "metadata": {},
   "source": [
    "<dl>\n",
    "<dt>Coordination game</dt>\n",
    "<dd>in the simplest form, the two players want to pick the same outcome (multiple equilibria possible)</dd>\n",
    "</dl>\n",
    "\n",
    "<b>Situation</b>: A boy and a girl can each choose between going to a baseball game or going to a softball game. The cost matrix is below.\n",
    "\n",
    "<img src = \"images/coordination_games_sexes.png\" height = \"30%\" width = \"30%\">\n",
    "\n",
    "<b>Solution</b>: Because both want to remain together the costs of separation are far higher than the benefit of one attending the game they prefer. The two equilibria are (B, B) and (S, S) in the format (Girl_action, Boy_action).\n",
    "\n",
    "Let's take a look at an \"anticoordination\" game -- routing! We'd rather that packets don't travel together because it can lead to congestion.\n",
    "\n",
    "<b>Situation</b>: The origin point of two traffic streams is $O$, and the two possible connection points to the rest of the network are $A$ and $B$ where $A$ is closer. Both streams can't be sent through $A$ because each point is easily congested alone.\n",
    "\n",
    "<b>Solution</b>: Good outcomes involve coordination to send the traffic through different connection points. Even though one path will be slightly slower, this outcome is preferable to both streams taking longer to go through $A$ together."
   ]
  },
  {
   "cell_type": "markdown",
   "metadata": {},
   "source": [
    "### Randomized (Mixed) Strategies"
   ]
  },
  {
   "cell_type": "markdown",
   "metadata": {},
   "source": [
    "What if a game doesn't have any stable outcomes?\n",
    "\n",
    "<b>Situation</b>: Two players toss a fair coin twice (H, T). The row player wins if the pennies match; the column player wins if they don't.\n",
    "\n",
    "<img src = \"images/mixed_strat_coin.png\" height = \"30%\" width = \"30%\">\n",
    "\n",
    "<b>Solution</b>: The players are directly competing with each other -- there isn't an optimal outcome where both players benefit / where it isn't beneficial for one player to \"defect\" by picking a different strategy.\n",
    "\n",
    "Each player <i>randomizes</i> to make it harder for the other player to beat them."
   ]
  },
  {
   "cell_type": "markdown",
   "metadata": {},
   "source": [
    "## Games, Strategies, Costs, and Payoffs"
   ]
  },
  {
   "cell_type": "markdown",
   "metadata": {},
   "source": [
    "<dl>\n",
    "<dt>One-shot simultaneous move game</dt>\n",
    "<dd>each player picks their action at the same time</dd>\n",
    "</dl>"
   ]
  },
  {
   "cell_type": "markdown",
   "metadata": {},
   "source": [
    "### Defining a Simultaneous Move Game"
   ]
  },
  {
   "cell_type": "markdown",
   "metadata": {},
   "source": [
    "Let's formally define a simultaneous move game. This kind of game includes:\n",
    "- players $\\{1, 2, ..., n\\}$\n",
    "- set of possible strategies $S_i \\forall$ players $i$\n",
    "  - vector of strategies $s = (s_1, ..., s_n)$\n",
    "  - the set of possible ways $s$ can be composed, $S$\n",
    "  "
   ]
  },
  {
   "cell_type": "markdown",
   "metadata": {},
   "source": [
    "### Standard Form Games and Compactly Represented Games"
   ]
  },
  {
   "cell_type": "markdown",
   "metadata": {},
   "source": [
    "## Basic Solution Concepts"
   ]
  },
  {
   "cell_type": "markdown",
   "metadata": {},
   "source": [
    "### Dominant Strategy Solution"
   ]
  },
  {
   "cell_type": "markdown",
   "metadata": {},
   "source": [
    "### Vickrey Auction: Designing Games with Dominant Strategy Solutions"
   ]
  },
  {
   "cell_type": "markdown",
   "metadata": {},
   "source": [
    "### Pure Strategy Nash Equilibrium"
   ]
  },
  {
   "cell_type": "markdown",
   "metadata": {},
   "source": [
    "### Mixed Strategy Nash Equilibria"
   ]
  },
  {
   "cell_type": "markdown",
   "metadata": {},
   "source": [
    "### Games with No Nash Equilibria"
   ]
  },
  {
   "cell_type": "markdown",
   "metadata": {},
   "source": [
    "### Correlated Equilibrium"
   ]
  },
  {
   "cell_type": "markdown",
   "metadata": {},
   "source": [
    "## Finding Equilibria and Learning in Games"
   ]
  },
  {
   "cell_type": "markdown",
   "metadata": {},
   "source": [
    "### Complexity of Finding Equilibria"
   ]
  },
  {
   "cell_type": "markdown",
   "metadata": {},
   "source": [
    "### Two-Person Zero-Sum Games"
   ]
  },
  {
   "cell_type": "markdown",
   "metadata": {},
   "source": [
    "### Best Response and Learning in Games"
   ]
  },
  {
   "cell_type": "markdown",
   "metadata": {},
   "source": [
    "## Refinement of Nash: Games with Turns and Subgame Perfect Equilibrium"
   ]
  },
  {
   "cell_type": "markdown",
   "metadata": {},
   "source": [
    "## Nash Equilibrium without Full Information: Bayesian Games"
   ]
  },
  {
   "cell_type": "markdown",
   "metadata": {},
   "source": [
    "## Cooperative Games"
   ]
  },
  {
   "cell_type": "markdown",
   "metadata": {},
   "source": [
    "### Strong Nash Equilibrium"
   ]
  },
  {
   "cell_type": "markdown",
   "metadata": {},
   "source": [
    "### Fair Division and Costsharing: Transferable Utility Games"
   ]
  },
  {
   "cell_type": "markdown",
   "metadata": {},
   "source": [
    "## Markets and Their Algorithmic Issues"
   ]
  },
  {
   "cell_type": "markdown",
   "metadata": {},
   "source": [
    "### An Algorithm for a Simple Market"
   ]
  }
 ],
 "metadata": {
  "kernelspec": {
   "display_name": "Python 3",
   "language": "python",
   "name": "python3"
  },
  "language_info": {
   "codemirror_mode": {
    "name": "ipython",
    "version": 3
   },
   "file_extension": ".py",
   "mimetype": "text/x-python",
   "name": "python",
   "nbconvert_exporter": "python",
   "pygments_lexer": "ipython3",
   "version": "3.6.3"
  }
 },
 "nbformat": 4,
 "nbformat_minor": 2
}
